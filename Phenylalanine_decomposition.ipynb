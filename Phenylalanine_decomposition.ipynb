{
  "nbformat": 4,
  "nbformat_minor": 0,
  "metadata": {
    "colab": {
      "private_outputs": true,
      "provenance": [],
      "authorship_tag": "ABX9TyPsUwcN2ClTPhTfxUbMBBWx",
      "include_colab_link": true
    },
    "kernelspec": {
      "name": "python3",
      "display_name": "Python 3"
    },
    "language_info": {
      "name": "python"
    }
  },
  "cells": [
    {
      "cell_type": "markdown",
      "metadata": {
        "id": "view-in-github",
        "colab_type": "text"
      },
      "source": [
        "<a href=\"https://colab.research.google.com/github/Palaeoprot/IPA/blob/main/Phenylalanine_decomposition.ipynb\" target=\"_parent\"><img src=\"https://colab.research.google.com/assets/colab-badge.svg\" alt=\"Open In Colab\"/></a>"
      ]
    },
    {
      "cell_type": "markdown",
      "source": [
        "#Example of reaction pathways\n",
        "Data taken from\n",
        "\n",
        "Changi, S., Zhu, M. and Savage, P.E. (2012) ‘Hydrothermal reaction kinetics and pathways of phenylalanine alone and in binary mixtures’, ChemSusChem, 5(9), pp. 1743–1757.\n",
        "\n",
        "<img src='https://drive.google.com/uc?export=view&id=1ph38QmGoK5k6Uaiu9DFcwh1qJadJAVtl' width=800px align=centre>\n",
        "\n"
      ],
      "metadata": {
        "id": "GY4K3-ZAChpi"
      }
    },
    {
      "cell_type": "code",
      "source": [
        "import numpy as np\n",
        "import matplotlib\n",
        "import matplotlib.pyplot as plt\n",
        "import matplotlib.cm as cm\n",
        "from scipy.optimize import curve_fit\n",
        "import seaborn as sns\n",
        "\n",
        "# Constants\n",
        "R = 8.314  # Gas constant in J/mol·K\n",
        "\n",
        "#('Qualitative',\n",
        "                    #  ['Pastel1', 'Pastel2', 'Paired', 'Accent', 'Dark2',\n",
        "                    #   'Set1', 'Set2', 'Set3', 'tab10', 'tab20', 'tab20b',\n",
        "                    #   'tab20c'])\n",
        "\n",
        "sns.set_palette(\"Dark2\")\n",
        "\n",
        "\n",
        "# Arrhenius parameters\n",
        "arrhenius_params = [\n",
        "    {\"A\": 10**12.5, \"Ea\": 146000},  # Reaction 1\n",
        "    {\"A\": 10**7.7, \"Ea\": 113000},   # Reaction 2\n",
        "#    {\"A\": 10**10.6, \"Ea\": 155000},  # Reaction 3\n",
        "    {\"A\": 10**13.9, \"Ea\": 153000},  # Reaction 4\n",
        "#    {\"A\": 10**7.3, \"Ea\": 132000},   # Reaction 5\n",
        "#    {\"A\": 10**8.5, \"Ea\": 140000},   # Reaction 6\n",
        "]\n",
        "\n",
        "# Temperature range from 0°C to 250°C\n",
        "temperatures_C = np.linspace(0, 140, 10)\n",
        "temperatures_K = temperatures_C + 273.15\n",
        "\n",
        "# Calculate rate constants for each reaction at each temperature\n",
        "rate_constants = np.zeros((len(arrhenius_params), len(temperatures_K)))\n",
        "\n",
        "for i, params in enumerate(arrhenius_params):\n",
        "    A = params[\"A\"]\n",
        "    Ea = params[\"Ea\"]\n",
        "    rate_constants[i] = A * np.exp(-Ea / (R * temperatures_K))\n",
        "\n",
        "# Determine the observed rate (fastest rate at each temperature)\n",
        "observed_rate_constants = np.max(rate_constants, axis=0)\n",
        "\n",
        "# Fit the apparent rate to a pseudo-first-order irreversible reaction\n",
        "def arrhenius_eq(T, A, Ea):\n",
        "    return A * np.exp(-Ea / (R * T))\n",
        "\n",
        "# Provide a reasonable initial guess for A and Ea\n",
        "# The values below are just examples and should be adjusted based on the data\n",
        "p0 = [1e10, 1e5]\n",
        "popt, _ = curve_fit(arrhenius_eq, temperatures_K, observed_rate_constants, p0=p0, maxfev=10000)  # Increase maxfev\n",
        "A_fit, Ea_fit = popt\n",
        "\n",
        "# Plotting\n",
        "plt.figure(figsize=(10, 6))\n",
        "\n",
        "# Plot the data\n",
        "for i, params in enumerate(arrhenius_params):\n",
        "    plt.plot(1/temperatures_K, np.log(rate_constants[i]), label=f'Reaction {i+1}')\n",
        "\n",
        "# Plot the observed rate\n",
        "plt.plot(1/temperatures_K, np.log(observed_rate_constants), label='Dominant Rate', linewidth=2, linestyle='--', color='black')\n",
        "\n",
        "# Plot fitted apparent rate\n",
        "fitted_rate_constants = arrhenius_eq(temperatures_K, A_fit, Ea_fit)\n",
        "plt.plot(1/temperatures_K, np.log(fitted_rate_constants), label='Fitted Apparent Rate', linewidth=2, linestyle=':', color='red')\n",
        "\n",
        "\n",
        "# Set the title, labels, and legend\n",
        "plt.xlabel('1/T (1/K)')\n",
        "plt.ylabel('ln(k)')\n",
        "plt.suptitle('Arrhenius Plot for Phenylalanine Reaction Network', fontsize=14)\n",
        "plt.title('Data from Changi et al. 2007, Table 4. Only the three fastest reactions are shown for simplicity', fontsize=10)\n",
        "plt.legend()\n",
        "plt.grid(True)\n",
        "plt.show()\n",
        "\n"
      ],
      "metadata": {
        "id": "PbfkuPhR9Dr6"
      },
      "execution_count": null,
      "outputs": []
    }
  ]
}